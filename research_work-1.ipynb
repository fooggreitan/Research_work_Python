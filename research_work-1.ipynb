{
 "cells": [
  {
   "attachments": {},
   "cell_type": "markdown",
   "metadata": {},
   "source": [
    "Задача 40: Работать с файлом california_housing_train.csv, \n",
    "который находится в папке sample_data. \n",
    "Определить среднюю стоимость дома, где кол-во людей от 0 до 500 (population)\n",
    "\n",
    "Задача 42: Узнать какая максимальная households в зоне минимального значения population"
   ]
  },
  {
   "cell_type": "code",
   "execution_count": 4,
   "metadata": {},
   "outputs": [
    {
     "name": "stdout",
     "output_type": "stream",
     "text": [
      "      longitude  latitude  housing_median_age  total_rooms  total_bedrooms  \\\n",
      "0       -122.05     37.37                27.0       3885.0           661.0   \n",
      "1       -118.30     34.26                43.0       1510.0           310.0   \n",
      "2       -117.81     33.78                27.0       3589.0           507.0   \n",
      "3       -118.36     33.82                28.0         67.0            15.0   \n",
      "4       -119.67     36.33                19.0       1241.0           244.0   \n",
      "...         ...       ...                 ...          ...             ...   \n",
      "2995    -119.86     34.42                23.0       1450.0           642.0   \n",
      "2996    -118.14     34.06                27.0       5257.0          1082.0   \n",
      "2997    -119.70     36.30                10.0        956.0           201.0   \n",
      "2998    -117.12     34.10                40.0         96.0            14.0   \n",
      "2999    -119.63     34.42                42.0       1765.0           263.0   \n",
      "\n",
      "      population  households  median_income  median_house_value  \n",
      "0         1537.0       606.0         6.6085            344700.0  \n",
      "1          809.0       277.0         3.5990            176500.0  \n",
      "2         1484.0       495.0         5.7934            270500.0  \n",
      "3           49.0        11.0         6.1359            330000.0  \n",
      "4          850.0       237.0         2.9375             81700.0  \n",
      "...          ...         ...            ...                 ...  \n",
      "2995      1258.0       607.0         1.1790            225000.0  \n",
      "2996      3496.0      1036.0         3.3906            237200.0  \n",
      "2997       693.0       220.0         2.2895             62000.0  \n",
      "2998        46.0        14.0         3.2708            162500.0  \n",
      "2999       753.0       260.0         8.5608            500001.0  \n",
      "\n",
      "[3000 rows x 9 columns]\n"
     ]
    }
   ],
   "source": [
    "import pandas as pd\n",
    "df = pd.read_csv('D:/california_housing_test.csv')\n",
    "print(df)"
   ]
  },
  {
   "cell_type": "code",
   "execution_count": 5,
   "metadata": {},
   "outputs": [
    {
     "data": {
      "text/plain": [
       "190157.0918032787"
      ]
     },
     "execution_count": 5,
     "metadata": {},
     "output_type": "execute_result"
    }
   ],
   "source": [
    "df[(df['population'] >= 0) & (df['population'] <= 500)]['median_house_value'].mean()"
   ]
  },
  {
   "cell_type": "code",
   "execution_count": 6,
   "metadata": {},
   "outputs": [
    {
     "name": "stdout",
     "output_type": "stream",
     "text": [
      "3.0\n"
     ]
    }
   ],
   "source": [
    "print(df[df['population'] == 5.0]['households'].max())"
   ]
  }
 ],
 "metadata": {
  "kernelspec": {
   "display_name": "Python 3",
   "language": "python",
   "name": "python3"
  },
  "language_info": {
   "codemirror_mode": {
    "name": "ipython",
    "version": 3
   },
   "file_extension": ".py",
   "mimetype": "text/x-python",
   "name": "python",
   "nbconvert_exporter": "python",
   "pygments_lexer": "ipython3",
   "version": "3.10.1"
  },
  "orig_nbformat": 4,
  "vscode": {
   "interpreter": {
    "hash": "57e12305f51244998a45c647d0629e63c6273a3efef1bd8ba9a0ab38eacecf59"
   }
  }
 },
 "nbformat": 4,
 "nbformat_minor": 2
}
